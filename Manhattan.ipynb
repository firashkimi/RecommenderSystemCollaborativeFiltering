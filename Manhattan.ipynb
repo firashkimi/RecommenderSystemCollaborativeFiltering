{
 "cells": [
  {
   "cell_type": "markdown",
   "id": "1a91d698",
   "metadata": {},
   "source": [
    "<h1 align=\"center\">TP Système de Reccommandation</h1>"
   ]
  },
  {
   "cell_type": "markdown",
   "id": "2cd4afd4",
   "metadata": {},
   "source": [
    "<h3 align=\"right\"1>By Firas Hkimi & Firas Saidi</h3>"
   ]
  },
  {
   "cell_type": "markdown",
   "id": "2bd46566",
   "metadata": {},
   "source": [
    "# Filtrage Collaborative"
   ]
  },
  {
   "cell_type": "markdown",
   "id": "105417b1",
   "metadata": {},
   "source": [
    "<ol><li>Avec Manhattan distance </li></ol>"
   ]
  },
  {
   "cell_type": "code",
   "execution_count": 9,
   "id": "8b26b9ef",
   "metadata": {},
   "outputs": [],
   "source": [
    "##Representing the data in the table above using Python. I am going to use Python's Dictionary"
   ]
  },
  {
   "cell_type": "code",
   "execution_count": 7,
   "id": "62e99227",
   "metadata": {},
   "outputs": [],
   "source": [
    "from math import sqrt\n",
    "users = {\"Nadhir\": {\"Vikings\": 5, \"Game of Thrones\": 5, \"The Good Doctor\": 2, \"Chofli Hal\": 1,\"Narcos\":5},\n",
    "         \"Saidi\":{\"Vikings\": 2, \"Game of Thrones\": 3.5, \"The Good Doctor\": 5,\"La casa de papel\": 1, \"Narcos\": 5},\n",
    "         \"Wejden\": {\"Chofli Hal\": 5.0,\"Narcos\": 4},\n",
    "         \"Cyrine\": {\"Vikings\": 3, \"Game of Thrones\": 3.5,\"The Good Doctor\": 5,\"Chofli Hal\": 1, \"La casa de papel\": 2},\n",
    "         \"Aline\": {\"Vikings\": 5,\"Game of Thrones\": 5,\"La casa de papel\": 4, \"Peaky Blinders\": 4},\n",
    "         \"Malek\":  {\"Game of Thrones\": 1,\"The Good Doctor\": 5,\"Chofli Hal\": 5, \"Peaky Blinders\": 4},\n",
    "         }\n"
   ]
  },
  {
   "cell_type": "code",
   "execution_count": null,
   "id": "92a22611",
   "metadata": {},
   "outputs": [],
   "source": [
    "##We can get the ratings of a particular user"
   ]
  },
  {
   "cell_type": "code",
   "execution_count": 11,
   "id": "3b2c1575",
   "metadata": {
    "scrolled": true
   },
   "outputs": [
    {
     "data": {
      "text/plain": [
       "{'Vikings': 5,\n",
       " 'Game of Thrones': 5,\n",
       " 'The Good Doctor': 2,\n",
       " 'Chofli Hal': 1,\n",
       " 'Narcos': 5}"
      ]
     },
     "execution_count": 11,
     "metadata": {},
     "output_type": "execute_result"
    }
   ],
   "source": [
    "users[\"Nadhir\"]"
   ]
  },
  {
   "cell_type": "code",
   "execution_count": null,
   "id": "ece8907f",
   "metadata": {},
   "outputs": [],
   "source": [
    "##function that computes the Manhattan distance"
   ]
  },
  {
   "cell_type": "code",
   "execution_count": 2,
   "id": "702e80f1",
   "metadata": {},
   "outputs": [],
   "source": [
    "def manhattan(rating1, rating2):\n",
    "    distance = 0\n",
    "    commonRatings = False \n",
    "    for key in rating1:\n",
    "        if key in rating2:\n",
    "            distance += abs(rating1[key] - rating2[key])\n",
    "            commonRatings = True\n",
    "    if commonRatings:\n",
    "        return distance\n",
    "    else:\n",
    "        return -1 #Indicates no ratings in common\n"
   ]
  },
  {
   "cell_type": "code",
   "execution_count": null,
   "id": "92c2451f",
   "metadata": {},
   "outputs": [],
   "source": [
    "##Test the function"
   ]
  },
  {
   "cell_type": "code",
   "execution_count": 13,
   "id": "99a078cc",
   "metadata": {},
   "outputs": [
    {
     "data": {
      "text/plain": [
       "7.5"
      ]
     },
     "execution_count": 13,
     "metadata": {},
     "output_type": "execute_result"
    }
   ],
   "source": [
    "manhattan(users[\"Nadhir\"],users[\"Saidi\"])"
   ]
  },
  {
   "cell_type": "code",
   "execution_count": null,
   "id": "bce0daf6",
   "metadata": {},
   "outputs": [],
   "source": [
    "##function to find the closest person (actually this returns a sorted list with the closest person first)"
   ]
  },
  {
   "cell_type": "code",
   "execution_count": 3,
   "id": "3e1a5b6c",
   "metadata": {},
   "outputs": [],
   "source": [
    "def computeNearestNeighbor(username, users):\n",
    "    distances = []\n",
    "    for user in users:\n",
    "        if user != username:\n",
    "            distance = manhattan(users[user], users[username])\n",
    "            distances.append((distance, user))\n",
    "    distances.sort()\n",
    "    return distances\n"
   ]
  },
  {
   "cell_type": "code",
   "execution_count": 14,
   "id": "3d8a8ab4",
   "metadata": {
    "scrolled": true
   },
   "outputs": [
    {
     "data": {
      "text/plain": [
       "[(0, 'Aline'), (5.0, 'Wejden'), (6.5, 'Cyrine'), (7.5, 'Saidi'), (11, 'Malek')]"
      ]
     },
     "execution_count": 14,
     "metadata": {},
     "output_type": "execute_result"
    }
   ],
   "source": [
    "computeNearestNeighbor(\"Nadhir\",users)"
   ]
  },
  {
   "cell_type": "code",
   "execution_count": null,
   "id": "0b563ecc",
   "metadata": {},
   "outputs": [],
   "source": [
    "##Enfin, nous allons mettre tout cela en commun pour formuler des recommandations"
   ]
  },
  {
   "cell_type": "code",
   "execution_count": null,
   "id": "4a697593",
   "metadata": {},
   "outputs": [],
   "source": [
    "##Disons que je veux faire des recommandations pour Nadhir."
   ]
  },
  {
   "cell_type": "code",
   "execution_count": null,
   "id": "3b31b233",
   "metadata": {},
   "outputs": [],
   "source": [
    "##Trouve son voisin le plus proche,en l'occurrence Aline"
   ]
  },
  {
   "cell_type": "code",
   "execution_count": null,
   "id": "767f46cd",
   "metadata": {},
   "outputs": [],
   "source": [
    "##Ensuite trouver des groupes que Aline a évalués mais pas Nadhir."
   ]
  },
  {
   "cell_type": "code",
   "execution_count": 4,
   "id": "0d70dbaf",
   "metadata": {},
   "outputs": [],
   "source": [
    "def recommend(username, users):\n",
    "    # first find nearest neighbor\n",
    "    nearest = computeNearestNeighbor(username, users)[0][1]\n",
    "\n",
    "    recommendations = []\n",
    "    # now find bands neighbor rated that user didn't\n",
    "    neighborRatings = users[nearest]\n",
    "    userRatings = users[username]\n",
    "    for serie in neighborRatings:\n",
    "        if not serie in userRatings:\n",
    "            recommendations.append((serie, neighborRatings[serie]))\n",
    "    # using the fn sorted for variety - sort is more efficient\n",
    "    return sorted(recommendations, key=lambda serieTuple: serieTuple[1], reverse = True)"
   ]
  },
  {
   "cell_type": "code",
   "execution_count": null,
   "id": "507f53da",
   "metadata": {},
   "outputs": [],
   "source": [
    "##make recommendations for Nadhir"
   ]
  },
  {
   "cell_type": "code",
   "execution_count": 15,
   "id": "37ff3920",
   "metadata": {},
   "outputs": [
    {
     "name": "stdout",
     "output_type": "stream",
     "text": [
      "[('La casa de papel', 4), ('Peaky Blinders', 4)]\n"
     ]
    }
   ],
   "source": [
    "print( recommend('Nadhir', users))"
   ]
  }
 ],
 "metadata": {
  "kernelspec": {
   "display_name": "Python 3 (ipykernel)",
   "language": "python",
   "name": "python3"
  },
  "language_info": {
   "codemirror_mode": {
    "name": "ipython",
    "version": 3
   },
   "file_extension": ".py",
   "mimetype": "text/x-python",
   "name": "python",
   "nbconvert_exporter": "python",
   "pygments_lexer": "ipython3",
   "version": "3.9.13"
  }
 },
 "nbformat": 4,
 "nbformat_minor": 5
}
