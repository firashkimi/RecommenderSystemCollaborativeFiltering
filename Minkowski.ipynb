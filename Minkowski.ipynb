{
 "cells": [
  {
   "cell_type": "markdown",
   "id": "89c6da10",
   "metadata": {},
   "source": [
    "<h1 align=\"center\">TP Système de Reccommandation</h1>"
   ]
  },
  {
   "cell_type": "markdown",
   "id": "6c18b79e",
   "metadata": {},
   "source": [
    "<h3 align=\"right\"1>By Firas Hkimi & Firas Saidi</h3>"
   ]
  },
  {
   "cell_type": "markdown",
   "id": "c29598ac",
   "metadata": {},
   "source": [
    "# Filtrage Collaborative"
   ]
  },
  {
   "cell_type": "markdown",
   "id": "1764060f",
   "metadata": {},
   "source": [
    "<ol><li>Avec Manhattan distance </li></ol>"
   ]
  },
  {
   "cell_type": "code",
   "execution_count": 9,
   "id": "0eaa41af",
   "metadata": {},
   "outputs": [],
   "source": [
    "##Representing the data in the table above using Python. I am going to use Python's Dictionary"
   ]
  },
  {
   "cell_type": "code",
   "execution_count": 13,
   "id": "60c704a4",
   "metadata": {},
   "outputs": [],
   "source": [
    "from math import sqrt\n",
    "users = {\"Nadhir\": {\"Vikings\": 5, \"Game of Thrones\": 5, \"The Good Doctor\": 2, \"Chofli Hal\": 1,\"Narcos\":5},\n",
    "         \"Saidi\":{\"Vikings\": 2, \"Game of Thrones\": 3.5, \"The Good Doctor\": 5,\"La casa de papel\": 1, \"Narcos\": 5},\n",
    "         \"Wejden\": {\"Chofli Hal\": 5.0,\"Narcos\": 4},\n",
    "         \"Cyrine\": {\"Vikings\": 3, \"Game of Thrones\": 3.5,\"The Good Doctor\": 5,\"Chofli Hal\": 1, \"La casa de papel\": 2},\n",
    "         \"Aline\": {\"Vikings\": 5,\"Game of Thrones\": 5,\"La casa de papel\": 4, \"Peaky Blinders\": 4},\n",
    "         \"Malek\":  {\"Game of Thrones\": 1,\"The Good Doctor\": 5,\"Chofli Hal\": 5, \"Peaky Blinders\": 4},\n",
    "         }\n"
   ]
  },
  {
   "cell_type": "code",
   "execution_count": 14,
   "id": "eee70a84",
   "metadata": {},
   "outputs": [],
   "source": [
    "##We can get the ratings of a particular user"
   ]
  },
  {
   "cell_type": "code",
   "execution_count": 15,
   "id": "13c0bab1",
   "metadata": {
    "scrolled": true
   },
   "outputs": [
    {
     "data": {
      "text/plain": [
       "{'Vikings': 5,\n",
       " 'Game of Thrones': 5,\n",
       " 'The Good Doctor': 2,\n",
       " 'Chofli Hal': 1,\n",
       " 'Narcos': 5}"
      ]
     },
     "execution_count": 15,
     "metadata": {},
     "output_type": "execute_result"
    }
   ],
   "source": [
    "users[\"Nadhir\"]"
   ]
  },
  {
   "cell_type": "code",
   "execution_count": 21,
   "id": "d71c470f",
   "metadata": {},
   "outputs": [],
   "source": [
    "##the Minkowski Distance function"
   ]
  },
  {
   "cell_type": "code",
   "execution_count": 22,
   "id": "75c62254",
   "metadata": {},
   "outputs": [],
   "source": [
    "def minkowski(rating1, rating2, r):\n",
    " distance = 0\n",
    " commonRatings = False\n",
    " for key in rating1:\n",
    "     if key in rating2:\n",
    "         distance +=pow(abs(rating1[key] - rating2[key]), r)\n",
    "         commonRatings = True\n",
    " if commonRatings:\n",
    "     return pow(distance, 1/r)\n",
    " else:\n",
    "     return 0 #Indicates no ratings in common"
   ]
  },
  {
   "cell_type": "code",
   "execution_count": 23,
   "id": "9b67f1e9",
   "metadata": {},
   "outputs": [],
   "source": [
    "##Test the function"
   ]
  },
  {
   "cell_type": "code",
   "execution_count": 25,
   "id": "6880384c",
   "metadata": {
    "scrolled": true
   },
   "outputs": [
    {
     "data": {
      "text/plain": [
       "4.5"
      ]
     },
     "execution_count": 25,
     "metadata": {},
     "output_type": "execute_result"
    }
   ],
   "source": [
    "minkowski(users[\"Nadhir\"],users[\"Saidi\"],2)"
   ]
  },
  {
   "cell_type": "code",
   "execution_count": 4,
   "id": "efbc50e5",
   "metadata": {},
   "outputs": [],
   "source": [
    "##function to find the closest person (actually this returns a sorted list with the closest person first)"
   ]
  },
  {
   "cell_type": "code",
   "execution_count": 26,
   "id": "e88ad9f2",
   "metadata": {},
   "outputs": [],
   "source": [
    "def computeNearestNeighbor(username, users):\n",
    "    distances = []\n",
    "    for user in users:\n",
    "        if user != username:\n",
    "            distance = minkowski(users[user], users[username],2) ##Change\n",
    "            distances.append((distance, user))\n",
    "    distances.sort()\n",
    "    return distances\n"
   ]
  },
  {
   "cell_type": "code",
   "execution_count": 28,
   "id": "3c927650",
   "metadata": {
    "scrolled": true
   },
   "outputs": [
    {
     "data": {
      "text/plain": [
       "[(0.0, 'Aline'),\n",
       " (3.905124837953327, 'Cyrine'),\n",
       " (4.123105625617661, 'Wejden'),\n",
       " (4.5, 'Saidi'),\n",
       " (6.4031242374328485, 'Malek')]"
      ]
     },
     "execution_count": 28,
     "metadata": {},
     "output_type": "execute_result"
    }
   ],
   "source": [
    "computeNearestNeighbor(\"Nadhir\",users)"
   ]
  },
  {
   "cell_type": "code",
   "execution_count": null,
   "id": "5e7548b0",
   "metadata": {},
   "outputs": [],
   "source": [
    "##Enfin, nous allons mettre tout cela en commun pour formuler des recommandations"
   ]
  },
  {
   "cell_type": "code",
   "execution_count": null,
   "id": "0d362044",
   "metadata": {},
   "outputs": [],
   "source": [
    "##Disons que je veux faire des recommandations pour Nadhir."
   ]
  },
  {
   "cell_type": "code",
   "execution_count": null,
   "id": "297755ab",
   "metadata": {},
   "outputs": [],
   "source": [
    "##Trouve son voisin le plus proche,en l'occurrence Aline"
   ]
  },
  {
   "cell_type": "code",
   "execution_count": null,
   "id": "24248982",
   "metadata": {},
   "outputs": [],
   "source": [
    "##Ensuite trouver des groupes que Aline a évalués mais pas Nadhir."
   ]
  },
  {
   "cell_type": "code",
   "execution_count": 4,
   "id": "7cb3440e",
   "metadata": {},
   "outputs": [],
   "source": [
    "def recommend(username, users):\n",
    "    # first find nearest neighbor\n",
    "    nearest = computeNearestNeighbor(username, users)[0][1]\n",
    "\n",
    "    recommendations = []\n",
    "    # now find bands neighbor rated that user didn't\n",
    "    neighborRatings = users[nearest]\n",
    "    userRatings = users[username]\n",
    "    for serie in neighborRatings:\n",
    "        if not serie in userRatings:\n",
    "            recommendations.append((serie, neighborRatings[serie]))\n",
    "    # using the fn sorted for variety - sort is more efficient\n",
    "    return sorted(recommendations, key=lambda serieTuple: serieTuple[1], reverse = True)"
   ]
  },
  {
   "cell_type": "code",
   "execution_count": null,
   "id": "f6a7df24",
   "metadata": {},
   "outputs": [],
   "source": [
    "##make recommendations for Nadhir"
   ]
  },
  {
   "cell_type": "code",
   "execution_count": 15,
   "id": "57560085",
   "metadata": {},
   "outputs": [
    {
     "name": "stdout",
     "output_type": "stream",
     "text": [
      "[('La casa de papel', 4), ('Peaky Blinders', 4)]\n"
     ]
    }
   ],
   "source": [
    "print( recommend('Nadhir', users))"
   ]
  }
 ],
 "metadata": {
  "kernelspec": {
   "display_name": "Python 3 (ipykernel)",
   "language": "python",
   "name": "python3"
  },
  "language_info": {
   "codemirror_mode": {
    "name": "ipython",
    "version": 3
   },
   "file_extension": ".py",
   "mimetype": "text/x-python",
   "name": "python",
   "nbconvert_exporter": "python",
   "pygments_lexer": "ipython3",
   "version": "3.9.13"
  }
 },
 "nbformat": 4,
 "nbformat_minor": 5
}
